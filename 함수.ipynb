{
 "cells": [
  {
   "cell_type": "markdown",
   "metadata": {},
   "source": [
    "### 함수"
   ]
  },
  {
   "cell_type": "code",
   "execution_count": 3,
   "metadata": {},
   "outputs": [],
   "source": [
    "# 함수의 기본 형태\n",
    "def test1() :\n",
    "    print(1)"
   ]
  },
  {
   "cell_type": "code",
   "execution_count": 2,
   "metadata": {},
   "outputs": [
    {
     "name": "stdout",
     "output_type": "stream",
     "text": [
      "1\n"
     ]
    }
   ],
   "source": [
    "test1()"
   ]
  },
  {
   "cell_type": "code",
   "execution_count": 5,
   "metadata": {},
   "outputs": [
    {
     "name": "stdout",
     "output_type": "stream",
     "text": [
      "10\n"
     ]
    }
   ],
   "source": [
    "# 리턴이 있는 함수\n",
    "def getNum() :\n",
    "    return 10\n",
    "\n",
    "val = getNum()\n",
    "print(val)"
   ]
  },
  {
   "cell_type": "code",
   "execution_count": 10,
   "metadata": {},
   "outputs": [
    {
     "name": "stdout",
     "output_type": "stream",
     "text": [
      "48\n"
     ]
    }
   ],
   "source": [
    "# 매개변수로 전달되는 두수의 합을 리턴하는 함수 & 호출\n",
    "def plusNum(a, b) :\n",
    "    return a+b\n",
    "print(plusNum(3, 45))"
   ]
  },
  {
   "cell_type": "code",
   "execution_count": 19,
   "metadata": {},
   "outputs": [
    {
     "name": "stdout",
     "output_type": "stream",
     "text": [
      "(10, 20)\n",
      "20\n",
      "10\n",
      "20\n"
     ]
    }
   ],
   "source": [
    "# python은 필요하다면 여러 데이터를 return 할 수 있다.\n",
    "def test2():\n",
    "    return 10, 20\n",
    "\n",
    "# 결과가 Tuple(튜플) 자료형으로 나온다.\n",
    "# Tuple : list와 동일하지만, 값을 변경하지 못하는 자료형이다.\n",
    "val1 = test2()\n",
    "print(val1)\n",
    "\n",
    "print(val1[1])\n",
    "\n",
    "num1, num2 = test2()\n",
    "print(num1)\n",
    "print(num2)"
   ]
  },
  {
   "cell_type": "code",
   "execution_count": 20,
   "metadata": {},
   "outputs": [],
   "source": [
    "# 파이썬은 매개변수의 값을 자바와 다르게 지정할 수 있다.\n",
    "def intro(name, age) :\n",
    "    print(f'이름은 {name}이고, 나이는 {age}입니다.')"
   ]
  },
  {
   "cell_type": "code",
   "execution_count": 25,
   "metadata": {},
   "outputs": [
    {
     "name": "stdout",
     "output_type": "stream",
     "text": [
      "이름은 홍이고, 나이는 20입니다.\n",
      "이름은 홍이고, 나이는 20입니다.\n"
     ]
    }
   ],
   "source": [
    "intro('홍', 20)\n",
    "# 매개변수의 순서와 상관없이 이름으로 접근할 수 있다.\n",
    "intro(age = 20, name = '홍')"
   ]
  },
  {
   "cell_type": "code",
   "execution_count": 28,
   "metadata": {},
   "outputs": [],
   "source": [
    "# 함수 선언 시 매개변수의 기본값(default)을 지정할 수 있다.\n",
    "def mySum(a, b = 10, c = 20) :\n",
    "    return a + b + c"
   ]
  },
  {
   "cell_type": "code",
   "execution_count": 37,
   "metadata": {},
   "outputs": [
    {
     "name": "stdout",
     "output_type": "stream",
     "text": [
      "6\n",
      "23\n",
      "31\n",
      "10\n"
     ]
    }
   ],
   "source": [
    "print(mySum(1,2,3))\n",
    "print(mySum(1,2))\n",
    "print(mySum(1))\n",
    "print(mySum(b=5, a=3, c=2))"
   ]
  },
  {
   "cell_type": "code",
   "execution_count": 53,
   "metadata": {},
   "outputs": [
    {
     "name": "stdout",
     "output_type": "stream",
     "text": [
      "14\n"
     ]
    }
   ],
   "source": [
    "# 1. 매개변수로 두 개의 리스트를 받아서 두 리스트에 저장된 모든 데이터의 합을 리턴하는 함수\n",
    "def getSumOfList(list1, list2) :\n",
    "    return sum(list1) + sum(list2)\n",
    "\n",
    "print(getSumOfList([1,3,2],[8]))"
   ]
  },
  {
   "cell_type": "code",
   "execution_count": 84,
   "metadata": {},
   "outputs": [
    {
     "name": "stdout",
     "output_type": "stream",
     "text": [
      "[1, 6]\n"
     ]
    }
   ],
   "source": [
    "# 2. 매개변수로 두 개의 리스트를 받아서\n",
    "# 두 리스트에서 중복된 데이터만 가지는 새로운 리스트 리턴하는 함수\n",
    "list3 = []\n",
    "def sameNum(list1, list2) :\n",
    "    for i in list1 :\n",
    "        if i in list2 :\n",
    "            list3.append(i)\n",
    "    return print(list3)\n",
    "\n",
    "sameNum([1,5,6,4],[1,6,2,7])"
   ]
  },
  {
   "cell_type": "code",
   "execution_count": 102,
   "metadata": {},
   "outputs": [
    {
     "name": "stdout",
     "output_type": "stream",
     "text": [
      "{'name': 'hong', 'age': 30}\n"
     ]
    }
   ],
   "source": [
    "# 3. changeValueOfDic(딕셔너리, 변경할key, 변경할값)\n",
    "# 만약 찾는 키가 없다면 '변경할 키를 찾지 못했습니다.'출력\n",
    "dic_1 = {\n",
    "    'name' : 'hong'\n",
    "    , 'age' : 20\n",
    "    , 'id' : 'python'\n",
    "}\n",
    "def changeValueOfDic(a,b,c) :\n",
    "    if b in a :\n",
    "        a[b] = c\n",
    "        print(a)\n",
    "    else :\n",
    "        print('변경할 키를 찾지 못했습니다.')\n",
    "\n",
    "\n",
    "changeValueOfDic(dic_1,'age', 30)"
   ]
  }
 ],
 "metadata": {
  "kernelspec": {
   "display_name": "Python 3",
   "language": "python",
   "name": "python3"
  },
  "language_info": {
   "codemirror_mode": {
    "name": "ipython",
    "version": 3
   },
   "file_extension": ".py",
   "mimetype": "text/x-python",
   "name": "python",
   "nbconvert_exporter": "python",
   "pygments_lexer": "ipython3",
   "version": "3.12.2"
  }
 },
 "nbformat": 4,
 "nbformat_minor": 2
}
