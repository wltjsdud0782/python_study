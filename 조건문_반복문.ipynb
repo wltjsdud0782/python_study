{
 "cells": [
  {
   "cell_type": "markdown",
   "metadata": {},
   "source": [
    "### 조건문"
   ]
  },
  {
   "cell_type": "code",
   "execution_count": 4,
   "metadata": {},
   "outputs": [
    {
     "name": "stdout",
     "output_type": "stream",
     "text": [
      "5\n",
      "10\n",
      "15\n"
     ]
    }
   ],
   "source": [
    "# if문 기본 : 들여쓰기 기준으로 조건문 영역 표현\n",
    "if 10 > 5 :\n",
    "    print(5)\n",
    "    print(10)\n",
    "print(15)"
   ]
  },
  {
   "cell_type": "code",
   "execution_count": 5,
   "metadata": {},
   "outputs": [
    {
     "name": "stdout",
     "output_type": "stream",
     "text": [
      "1\n"
     ]
    }
   ],
   "source": [
    "num1 = 10\n",
    "if num1 > 5 :\n",
    "    print(1)\n",
    "else :\n",
    "    print(2)"
   ]
  },
  {
   "cell_type": "code",
   "execution_count": 8,
   "metadata": {},
   "outputs": [
    {
     "name": "stdout",
     "output_type": "stream",
     "text": [
      "양수\n"
     ]
    }
   ],
   "source": [
    "num2 = 5\n",
    "if num2 > 0 :\n",
    "    print(\"양수\")\n",
    "elif num2 < 0 : # else if > elif\n",
    "    print(\"음수\")\n",
    "else :\n",
    "    print(\"0\")"
   ]
  },
  {
   "cell_type": "code",
   "execution_count": 10,
   "metadata": {},
   "outputs": [
    {
     "name": "stdout",
     "output_type": "stream",
     "text": [
      "참\n"
     ]
    }
   ],
   "source": [
    "# 그리고(and), 이거나(or)\n",
    "num3 = 10\n",
    "# num3의 값이 2의 배수이고 5보다 크면\n",
    "if num3 % 2 == 0 and num3 > 5 :\n",
    "    print(\"참\")"
   ]
  },
  {
   "cell_type": "code",
   "execution_count": 14,
   "metadata": {},
   "outputs": [
    {
     "name": "stdout",
     "output_type": "stream",
     "text": [
      "\n"
     ]
    }
   ],
   "source": [
    "#  키보드로 값 입력받기  :  숫자로 입력 받아도 문자로 취급한다.\n",
    "name = input('이름을 입력하세요 : ')\n",
    "print(name)"
   ]
  },
  {
   "cell_type": "code",
   "execution_count": 20,
   "metadata": {},
   "outputs": [
    {
     "name": "stdout",
     "output_type": "stream",
     "text": [
      "참\n"
     ]
    }
   ],
   "source": [
    "# 문제 1\n",
    "#   > 키보드로 두 수를 입력받아 두 수의 합이 5의 배수라면 '참' 출력\n",
    "num1 = input('첫번째 수 :')\n",
    "num2 = input('두번째 수 :')\n",
    "if (int(num1) + int(num2)) % 5 == 0 :\n",
    "    print('참')"
   ]
  },
  {
   "cell_type": "code",
   "execution_count": 22,
   "metadata": {},
   "outputs": [
    {
     "name": "stdout",
     "output_type": "stream",
     "text": [
      "유\n"
     ]
    }
   ],
   "source": [
    "# 파이썬에서만 존재하는 특별한 기능\n",
    "# ex) [1,2,3,4,5,6,7,8]에서 5가 있는지 판단하시오.\n",
    "list_1 = [1,2,3,4,5,6,7,8]\n",
    "if 5 in list_1 :\n",
    "    print('유')\n",
    "\n",
    "# [1,2,3,4,5,6,7,8]에서 5가 없는지 판단하시오.\n",
    "if 5 not in list_1 :\n",
    "    print('1')"
   ]
  },
  {
   "cell_type": "markdown",
   "metadata": {},
   "source": [
    "### 반복문"
   ]
  },
  {
   "cell_type": "code",
   "execution_count": 31,
   "metadata": {},
   "outputs": [
    {
     "name": "stdout",
     "output_type": "stream",
     "text": [
      "1 2 3 4 "
     ]
    }
   ],
   "source": [
    "# range(시작, 마무리 전 숫자)\n",
    "for i in range(1, 5) :\n",
    "    print(i, end=' ')"
   ]
  },
  {
   "cell_type": "code",
   "execution_count": 34,
   "metadata": {},
   "outputs": [
    {
     "name": "stdout",
     "output_type": "stream",
     "text": [
      "0 1 2 3 4 5 6 7 8 9 "
     ]
    }
   ],
   "source": [
    "# range(마무리 전 숫자) => 시작숫자 자동 0\n",
    "for i in range(10) :\n",
    "    print(i, end=' ')"
   ]
  },
  {
   "cell_type": "code",
   "execution_count": 36,
   "metadata": {},
   "outputs": [
    {
     "name": "stdout",
     "output_type": "stream",
     "text": [
      "3 6 1 9 13 "
     ]
    }
   ],
   "source": [
    "for i in [3,6,1,9,13] :\n",
    "    print(i, end=' ')"
   ]
  },
  {
   "cell_type": "code",
   "execution_count": 41,
   "metadata": {},
   "outputs": [
    {
     "name": "stdout",
     "output_type": "stream",
     "text": [
      "i = 0, e = 1\n",
      "i = 1, e = 3\n",
      "i = 2, e = java\n",
      "i = 3, e = 홍\n",
      "i = 4, e = 10.3\n"
     ]
    }
   ],
   "source": [
    "list_2 = [1, 3, 'java', '홍', 10.3]\n",
    "# i = 반복횟수(0부터의) / e = 반복하며 나온 값\n",
    "for i, e in enumerate(list_2) :\n",
    "    print(f'i = {i}, e = {e}')"
   ]
  },
  {
   "cell_type": "code",
   "execution_count": 46,
   "metadata": {},
   "outputs": [
    {
     "name": "stdout",
     "output_type": "stream",
     "text": [
      "55\n"
     ]
    }
   ],
   "source": [
    "# 1 ~ 10까지의 합 출력\n",
    "sum = 0\n",
    "for i in range(1, 11) :\n",
    "    sum = sum + i\n",
    "print(sum)"
   ]
  },
  {
   "cell_type": "code",
   "execution_count": 57,
   "metadata": {},
   "outputs": [
    {
     "name": "stdout",
     "output_type": "stream",
     "text": [
      "3 6 9 12 15 18 21 24 27 30 33 36 39 42 45 48 51 54 57 60 63 66 69 72 75 78 81 84 87 90 93 96 99 \n",
      "1683\n"
     ]
    }
   ],
   "source": [
    "# 1 ~ 100 사이의 수 중 3의 배수 및 3의 배수의 합 출력\n",
    "sum2 = 0\n",
    "for i in range(1,101) :\n",
    "    if i % 3 == 0 :\n",
    "        print(i, end=' ')\n",
    "        sum2 = sum2 + i\n",
    "print()\n",
    "print(sum2)"
   ]
  },
  {
   "cell_type": "code",
   "execution_count": 62,
   "metadata": {},
   "outputs": [
    {
     "name": "stdout",
     "output_type": "stream",
     "text": [
      "55\n"
     ]
    }
   ],
   "source": [
    "# 키보드로 입력받은 두 수 사이의 모든 숫자의 합을 출력\n",
    "num_1 = input('첫번째 수 :')\n",
    "num_2 = input('두번째 수 :')\n",
    "sum3 = 0\n",
    "if num_1 < num_2 :\n",
    "    max = num_2\n",
    "    min = num_1\n",
    "else :\n",
    "    max = num_1\n",
    "    min = num_2\n",
    "for i in range(int(min) + 1, int(max)) :\n",
    "    sum3 = sum3 + i\n",
    "print(sum3)"
   ]
  }
 ],
 "metadata": {
  "kernelspec": {
   "display_name": "Python 3",
   "language": "python",
   "name": "python3"
  },
  "language_info": {
   "codemirror_mode": {
    "name": "ipython",
    "version": 3
   },
   "file_extension": ".py",
   "mimetype": "text/x-python",
   "name": "python",
   "nbconvert_exporter": "python",
   "pygments_lexer": "ipython3",
   "version": "0.0.0"
  }
 },
 "nbformat": 4,
 "nbformat_minor": 2
}
