{
 "cells": [
  {
   "cell_type": "code",
   "execution_count": 2,
   "metadata": {},
   "outputs": [],
   "source": [
    "import pandas as pd"
   ]
  },
  {
   "cell_type": "code",
   "execution_count": 3,
   "metadata": {},
   "outputs": [
    {
     "data": {
      "text/html": [
       "<div>\n",
       "<style scoped>\n",
       "    .dataframe tbody tr th:only-of-type {\n",
       "        vertical-align: middle;\n",
       "    }\n",
       "\n",
       "    .dataframe tbody tr th {\n",
       "        vertical-align: top;\n",
       "    }\n",
       "\n",
       "    .dataframe thead th {\n",
       "        text-align: right;\n",
       "    }\n",
       "</style>\n",
       "<table border=\"1\" class=\"dataframe\">\n",
       "  <thead>\n",
       "    <tr style=\"text-align: right;\">\n",
       "      <th></th>\n",
       "      <th>데이터 시간</th>\n",
       "      <th>시리얼번호</th>\n",
       "      <th>미세먼지 (㎍/㎥)</th>\n",
       "      <th>초미세먼지 (㎍/㎥)</th>\n",
       "      <th>이산화탄소 (ppm)</th>\n",
       "      <th>휘발성유기화합물 (ppb)</th>\n",
       "      <th>온도(℃)</th>\n",
       "      <th>습도(%)</th>\n",
       "      <th>소음(dB)</th>\n",
       "      <th>통합실내지수</th>\n",
       "    </tr>\n",
       "  </thead>\n",
       "  <tbody>\n",
       "    <tr>\n",
       "      <th>0</th>\n",
       "      <td>2024-03-20 9:59</td>\n",
       "      <td>ICW0W2100488</td>\n",
       "      <td>36</td>\n",
       "      <td>13</td>\n",
       "      <td>365.0</td>\n",
       "      <td>36</td>\n",
       "      <td>19.5</td>\n",
       "      <td>15</td>\n",
       "      <td>72</td>\n",
       "      <td>93</td>\n",
       "    </tr>\n",
       "    <tr>\n",
       "      <th>1</th>\n",
       "      <td>2024-03-20 9:59</td>\n",
       "      <td>ICW0W2100506</td>\n",
       "      <td>0</td>\n",
       "      <td>0</td>\n",
       "      <td>95.0</td>\n",
       "      <td>5</td>\n",
       "      <td>10.9</td>\n",
       "      <td>28</td>\n",
       "      <td>59</td>\n",
       "      <td>92</td>\n",
       "    </tr>\n",
       "    <tr>\n",
       "      <th>2</th>\n",
       "      <td>2024-03-14 9:08</td>\n",
       "      <td>ICW0W2100587</td>\n",
       "      <td>55</td>\n",
       "      <td>20</td>\n",
       "      <td>392.0</td>\n",
       "      <td>6000</td>\n",
       "      <td>24.8</td>\n",
       "      <td>23</td>\n",
       "      <td>69</td>\n",
       "      <td>62</td>\n",
       "    </tr>\n",
       "    <tr>\n",
       "      <th>3</th>\n",
       "      <td>2024-03-20 9:59</td>\n",
       "      <td>ICW0W2100582</td>\n",
       "      <td>27</td>\n",
       "      <td>10</td>\n",
       "      <td>608.0</td>\n",
       "      <td>261</td>\n",
       "      <td>23.2</td>\n",
       "      <td>19</td>\n",
       "      <td>69</td>\n",
       "      <td>89</td>\n",
       "    </tr>\n",
       "    <tr>\n",
       "      <th>4</th>\n",
       "      <td>2024-03-20 9:59</td>\n",
       "      <td>ICW0W2100579</td>\n",
       "      <td>20</td>\n",
       "      <td>8</td>\n",
       "      <td>0.0</td>\n",
       "      <td>131</td>\n",
       "      <td>25.3</td>\n",
       "      <td>13</td>\n",
       "      <td>58</td>\n",
       "      <td>92</td>\n",
       "    </tr>\n",
       "    <tr>\n",
       "      <th>...</th>\n",
       "      <td>...</td>\n",
       "      <td>...</td>\n",
       "      <td>...</td>\n",
       "      <td>...</td>\n",
       "      <td>...</td>\n",
       "      <td>...</td>\n",
       "      <td>...</td>\n",
       "      <td>...</td>\n",
       "      <td>...</td>\n",
       "      <td>...</td>\n",
       "    </tr>\n",
       "    <tr>\n",
       "      <th>430</th>\n",
       "      <td>2024-03-21 13:58</td>\n",
       "      <td>ICW0W2100506</td>\n",
       "      <td>32</td>\n",
       "      <td>12</td>\n",
       "      <td>59.0</td>\n",
       "      <td>10</td>\n",
       "      <td>22.0</td>\n",
       "      <td>14</td>\n",
       "      <td>55</td>\n",
       "      <td>95</td>\n",
       "    </tr>\n",
       "    <tr>\n",
       "      <th>431</th>\n",
       "      <td>2024-03-14 9:08</td>\n",
       "      <td>ICW0W2100587</td>\n",
       "      <td>55</td>\n",
       "      <td>20</td>\n",
       "      <td>392.0</td>\n",
       "      <td>6000</td>\n",
       "      <td>24.8</td>\n",
       "      <td>23</td>\n",
       "      <td>69</td>\n",
       "      <td>62</td>\n",
       "    </tr>\n",
       "    <tr>\n",
       "      <th>432</th>\n",
       "      <td>2024-03-21 13:58</td>\n",
       "      <td>ICW0W2100582</td>\n",
       "      <td>30</td>\n",
       "      <td>11</td>\n",
       "      <td>583.0</td>\n",
       "      <td>55</td>\n",
       "      <td>22.7</td>\n",
       "      <td>19</td>\n",
       "      <td>66</td>\n",
       "      <td>92</td>\n",
       "    </tr>\n",
       "    <tr>\n",
       "      <th>433</th>\n",
       "      <td>2024-03-21 13:58</td>\n",
       "      <td>ICW0W2100579</td>\n",
       "      <td>11</td>\n",
       "      <td>4</td>\n",
       "      <td>0.0</td>\n",
       "      <td>215</td>\n",
       "      <td>25.9</td>\n",
       "      <td>12</td>\n",
       "      <td>63</td>\n",
       "      <td>93</td>\n",
       "    </tr>\n",
       "    <tr>\n",
       "      <th>434</th>\n",
       "      <td>2024-03-21 13:59</td>\n",
       "      <td>ICW0W2100562</td>\n",
       "      <td>26</td>\n",
       "      <td>14</td>\n",
       "      <td>596.0</td>\n",
       "      <td>493</td>\n",
       "      <td>24.5</td>\n",
       "      <td>14</td>\n",
       "      <td>61</td>\n",
       "      <td>81</td>\n",
       "    </tr>\n",
       "  </tbody>\n",
       "</table>\n",
       "<p>435 rows × 10 columns</p>\n",
       "</div>"
      ],
      "text/plain": [
       "               데이터 시간         시리얼번호  미세먼지 (㎍/㎥)  초미세먼지 (㎍/㎥)  이산화탄소 (ppm)  \\\n",
       "0     2024-03-20 9:59  ICW0W2100488          36           13        365.0   \n",
       "1     2024-03-20 9:59  ICW0W2100506           0            0         95.0   \n",
       "2     2024-03-14 9:08  ICW0W2100587          55           20        392.0   \n",
       "3     2024-03-20 9:59  ICW0W2100582          27           10        608.0   \n",
       "4     2024-03-20 9:59  ICW0W2100579          20            8          0.0   \n",
       "..                ...           ...         ...          ...          ...   \n",
       "430  2024-03-21 13:58  ICW0W2100506          32           12         59.0   \n",
       "431   2024-03-14 9:08  ICW0W2100587          55           20        392.0   \n",
       "432  2024-03-21 13:58  ICW0W2100582          30           11        583.0   \n",
       "433  2024-03-21 13:58  ICW0W2100579          11            4          0.0   \n",
       "434  2024-03-21 13:59  ICW0W2100562          26           14        596.0   \n",
       "\n",
       "     휘발성유기화합물 (ppb)  온도(℃)  습도(%)  소음(dB)  통합실내지수  \n",
       "0                36   19.5     15      72      93  \n",
       "1                 5   10.9     28      59      92  \n",
       "2              6000   24.8     23      69      62  \n",
       "3               261   23.2     19      69      89  \n",
       "4               131   25.3     13      58      92  \n",
       "..              ...    ...    ...     ...     ...  \n",
       "430              10   22.0     14      55      95  \n",
       "431            6000   24.8     23      69      62  \n",
       "432              55   22.7     19      66      92  \n",
       "433             215   25.9     12      63      93  \n",
       "434             493   24.5     14      61      81  \n",
       "\n",
       "[435 rows x 10 columns]"
      ]
     },
     "execution_count": 3,
     "metadata": {},
     "output_type": "execute_result"
    }
   ],
   "source": [
    "team_df = pd.read_csv('TeamAPI.csv')\n",
    "team_df"
   ]
  },
  {
   "cell_type": "code",
   "execution_count": 6,
   "metadata": {},
   "outputs": [
    {
     "data": {
      "text/plain": [
       "'12.14'"
      ]
     },
     "execution_count": 6,
     "metadata": {},
     "output_type": "execute_result"
    }
   ],
   "source": [
    "# 미세먼지 전체 평균 구하기\n",
    "\n",
    "pm10List=[]\n",
    "for key in team_df:\n",
    "    if key == '초미세먼지 (㎍/㎥)':\n",
    "        for i in range(0,len(team_df)):\n",
    "            pm10List.append(team_df[key][i])\n",
    "pm10Avg = sum(pm10List) / len(team_df)\n",
    "pm10Result = f\"{pm10Avg:.2f}\"\n",
    "pm10Result"
   ]
  },
  {
   "cell_type": "code",
   "execution_count": 7,
   "metadata": {},
   "outputs": [
    {
     "data": {
      "text/plain": [
       "'27.50'"
      ]
     },
     "execution_count": 7,
     "metadata": {},
     "output_type": "execute_result"
    }
   ],
   "source": [
    "# 초미세먼지 전체 평균 구하기\n",
    "\n",
    "pm25List=[]\n",
    "for key in team_df:\n",
    "    if key == '미세먼지 (㎍/㎥)':\n",
    "        for i in range(0,len(team_df)):\n",
    "            pm25List.append(team_df[key][i])\n",
    "pm25Avg = sum(pm25List) / len(team_df)\n",
    "pm25Result = f\"{pm25Avg:.2f}\"\n",
    "pm25Result"
   ]
  },
  {
   "cell_type": "code",
   "execution_count": 9,
   "metadata": {},
   "outputs": [
    {
     "data": {
      "text/plain": [
       "'714.00'"
      ]
     },
     "execution_count": 9,
     "metadata": {},
     "output_type": "execute_result"
    }
   ],
   "source": [
    "# 이산화탄소 전체 평균 구하기\n",
    "\n",
    "co2List=[]\n",
    "for key in team_df:\n",
    "    if key == '이산화탄소 (ppm)':\n",
    "        for i in range(0,len(team_df)):\n",
    "            # team_df['이산화탄소 (ppm)'].fillna(0, inplace=True) = nan 뜰때\n",
    "            # team_df['이산화탄소 (ppm)'].fillna(0, inplace=True)\n",
    "            co2List.append(team_df[key][i])\n",
    "co2Avg = sum(co2List) / len(team_df)\n",
    "co2Result = f\"{co2Avg:.2f}\"\n",
    "co2Result"
   ]
  },
  {
   "cell_type": "code",
   "execution_count": 4,
   "metadata": {},
   "outputs": [
    {
     "data": {
      "text/plain": [
       "'21.58'"
      ]
     },
     "execution_count": 4,
     "metadata": {},
     "output_type": "execute_result"
    }
   ],
   "source": [
    "# 온도 전체 평균 구하기\n",
    "\n",
    "tempList=[]\n",
    "for key in team_df:\n",
    "    if key == '온도(℃)':\n",
    "        for i in range(0,len(team_df)):\n",
    "            tempList.append(team_df[key][i])\n",
    "tempAvg = sum(tempList) / len(team_df)\n",
    "tempResult = f\"{tempAvg:.2f}\"\n",
    "tempResult"
   ]
  },
  {
   "cell_type": "code",
   "execution_count": 5,
   "metadata": {},
   "outputs": [
    {
     "data": {
      "text/plain": [
       "'23.15'"
      ]
     },
     "execution_count": 5,
     "metadata": {},
     "output_type": "execute_result"
    }
   ],
   "source": [
    "# 습도 전체 평균 구하기\n",
    "\n",
    "humiList=[]\n",
    "for key in team_df:\n",
    "    if key == '습도(%)':\n",
    "        for i in range(0,len(team_df)):\n",
    "            humiList.append(team_df[key][i])\n",
    "humiAvg = sum(humiList) / len(team_df)\n",
    "humiResult = f\"{humiAvg:.2f}\"\n",
    "humiResult"
   ]
  },
  {
   "cell_type": "code",
   "execution_count": 10,
   "metadata": {},
   "outputs": [
    {
     "data": {
      "text/plain": [
       "'60'"
      ]
     },
     "execution_count": 10,
     "metadata": {},
     "output_type": "execute_result"
    }
   ],
   "source": [
    "# 소음 전체 평균 구하기\n",
    "\n",
    "noiseList=[]\n",
    "for key in team_df:\n",
    "    if key == '소음(dB)':\n",
    "        for i in range(0,len(team_df)):\n",
    "            noiseList.append(team_df[key][i])\n",
    "noiseAvg = sum(noiseList) / len(team_df)\n",
    "noiseResult = f\"{noiseAvg:.0f}\"\n",
    "noiseResult"
   ]
  }
 ],
 "metadata": {
  "kernelspec": {
   "display_name": "Python 3",
   "language": "python",
   "name": "python3"
  },
  "language_info": {
   "codemirror_mode": {
    "name": "ipython",
    "version": 3
   },
   "file_extension": ".py",
   "mimetype": "text/x-python",
   "name": "python",
   "nbconvert_exporter": "python",
   "pygments_lexer": "ipython3",
   "version": "3.12.2"
  }
 },
 "nbformat": 4,
 "nbformat_minor": 2
}
