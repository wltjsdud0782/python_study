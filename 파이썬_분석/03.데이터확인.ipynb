{
 "cells": [
  {
   "cell_type": "code",
   "execution_count": 2,
   "metadata": {},
   "outputs": [],
   "source": [
    "data = {\n",
    "    '이름' : ['김자바', '이자바', '박자바', '최캐드', '정캐드']\n",
    "    , '학급' : ['자바반', '자바반', '자바반', '캐드반', '캐드반']\n",
    "    , '국어점수' : [90, 80, 70, 100, 90]\n",
    "    , '영어점수' : [70, 80, 80, 70, 90]\n",
    "    , '평균' : [80.0, 80.0, 75.0, 85.0, 90.0]\n",
    "    , '취미' : ['독서', '', '', '요가', '축구']\n",
    "}"
   ]
  },
  {
   "cell_type": "code",
   "execution_count": 3,
   "metadata": {},
   "outputs": [
    {
     "data": {
      "text/html": [
       "<div>\n",
       "<style scoped>\n",
       "    .dataframe tbody tr th:only-of-type {\n",
       "        vertical-align: middle;\n",
       "    }\n",
       "\n",
       "    .dataframe tbody tr th {\n",
       "        vertical-align: top;\n",
       "    }\n",
       "\n",
       "    .dataframe thead th {\n",
       "        text-align: right;\n",
       "    }\n",
       "</style>\n",
       "<table border=\"1\" class=\"dataframe\">\n",
       "  <thead>\n",
       "    <tr style=\"text-align: right;\">\n",
       "      <th></th>\n",
       "      <th>이름</th>\n",
       "      <th>학급</th>\n",
       "      <th>국어점수</th>\n",
       "      <th>영어점수</th>\n",
       "      <th>평균</th>\n",
       "      <th>취미</th>\n",
       "    </tr>\n",
       "  </thead>\n",
       "  <tbody>\n",
       "    <tr>\n",
       "      <th>0</th>\n",
       "      <td>김자바</td>\n",
       "      <td>자바반</td>\n",
       "      <td>90</td>\n",
       "      <td>70</td>\n",
       "      <td>80.0</td>\n",
       "      <td>독서</td>\n",
       "    </tr>\n",
       "    <tr>\n",
       "      <th>1</th>\n",
       "      <td>이자바</td>\n",
       "      <td>자바반</td>\n",
       "      <td>80</td>\n",
       "      <td>80</td>\n",
       "      <td>80.0</td>\n",
       "      <td></td>\n",
       "    </tr>\n",
       "    <tr>\n",
       "      <th>2</th>\n",
       "      <td>박자바</td>\n",
       "      <td>자바반</td>\n",
       "      <td>70</td>\n",
       "      <td>80</td>\n",
       "      <td>75.0</td>\n",
       "      <td></td>\n",
       "    </tr>\n",
       "    <tr>\n",
       "      <th>3</th>\n",
       "      <td>최캐드</td>\n",
       "      <td>캐드반</td>\n",
       "      <td>100</td>\n",
       "      <td>70</td>\n",
       "      <td>85.0</td>\n",
       "      <td>요가</td>\n",
       "    </tr>\n",
       "    <tr>\n",
       "      <th>4</th>\n",
       "      <td>정캐드</td>\n",
       "      <td>캐드반</td>\n",
       "      <td>90</td>\n",
       "      <td>90</td>\n",
       "      <td>90.0</td>\n",
       "      <td>축구</td>\n",
       "    </tr>\n",
       "  </tbody>\n",
       "</table>\n",
       "</div>"
      ],
      "text/plain": [
       "    이름   학급  국어점수  영어점수    평균  취미\n",
       "0  김자바  자바반    90    70  80.0  독서\n",
       "1  이자바  자바반    80    80  80.0    \n",
       "2  박자바  자바반    70    80  75.0    \n",
       "3  최캐드  캐드반   100    70  85.0  요가\n",
       "4  정캐드  캐드반    90    90  90.0  축구"
      ]
     },
     "execution_count": 3,
     "metadata": {},
     "output_type": "execute_result"
    }
   ],
   "source": [
    "import pandas as pd\n",
    "df = pd.DataFrame(data)\n",
    "df"
   ]
  },
  {
   "cell_type": "code",
   "execution_count": 4,
   "metadata": {},
   "outputs": [
    {
     "data": {
      "text/html": [
       "<div>\n",
       "<style scoped>\n",
       "    .dataframe tbody tr th:only-of-type {\n",
       "        vertical-align: middle;\n",
       "    }\n",
       "\n",
       "    .dataframe tbody tr th {\n",
       "        vertical-align: top;\n",
       "    }\n",
       "\n",
       "    .dataframe thead th {\n",
       "        text-align: right;\n",
       "    }\n",
       "</style>\n",
       "<table border=\"1\" class=\"dataframe\">\n",
       "  <thead>\n",
       "    <tr style=\"text-align: right;\">\n",
       "      <th></th>\n",
       "      <th>국어점수</th>\n",
       "      <th>영어점수</th>\n",
       "      <th>평균</th>\n",
       "    </tr>\n",
       "  </thead>\n",
       "  <tbody>\n",
       "    <tr>\n",
       "      <th>count</th>\n",
       "      <td>5.000000</td>\n",
       "      <td>5.0000</td>\n",
       "      <td>5.000000</td>\n",
       "    </tr>\n",
       "    <tr>\n",
       "      <th>mean</th>\n",
       "      <td>86.000000</td>\n",
       "      <td>78.0000</td>\n",
       "      <td>82.000000</td>\n",
       "    </tr>\n",
       "    <tr>\n",
       "      <th>std</th>\n",
       "      <td>11.401754</td>\n",
       "      <td>8.3666</td>\n",
       "      <td>5.700877</td>\n",
       "    </tr>\n",
       "    <tr>\n",
       "      <th>min</th>\n",
       "      <td>70.000000</td>\n",
       "      <td>70.0000</td>\n",
       "      <td>75.000000</td>\n",
       "    </tr>\n",
       "    <tr>\n",
       "      <th>25%</th>\n",
       "      <td>80.000000</td>\n",
       "      <td>70.0000</td>\n",
       "      <td>80.000000</td>\n",
       "    </tr>\n",
       "    <tr>\n",
       "      <th>50%</th>\n",
       "      <td>90.000000</td>\n",
       "      <td>80.0000</td>\n",
       "      <td>80.000000</td>\n",
       "    </tr>\n",
       "    <tr>\n",
       "      <th>75%</th>\n",
       "      <td>90.000000</td>\n",
       "      <td>80.0000</td>\n",
       "      <td>85.000000</td>\n",
       "    </tr>\n",
       "    <tr>\n",
       "      <th>max</th>\n",
       "      <td>100.000000</td>\n",
       "      <td>90.0000</td>\n",
       "      <td>90.000000</td>\n",
       "    </tr>\n",
       "  </tbody>\n",
       "</table>\n",
       "</div>"
      ],
      "text/plain": [
       "             국어점수     영어점수         평균\n",
       "count    5.000000   5.0000   5.000000\n",
       "mean    86.000000  78.0000  82.000000\n",
       "std     11.401754   8.3666   5.700877\n",
       "min     70.000000  70.0000  75.000000\n",
       "25%     80.000000  70.0000  80.000000\n",
       "50%     90.000000  80.0000  80.000000\n",
       "75%     90.000000  80.0000  85.000000\n",
       "max    100.000000  90.0000  90.000000"
      ]
     },
     "execution_count": 4,
     "metadata": {},
     "output_type": "execute_result"
    }
   ],
   "source": [
    "df.describe()"
   ]
  },
  {
   "cell_type": "code",
   "execution_count": 10,
   "metadata": {},
   "outputs": [
    {
     "data": {
      "text/plain": [
       "3    100\n",
       "0     90\n",
       "4     90\n",
       "Name: 국어점수, dtype: int64"
      ]
     },
     "execution_count": 10,
     "metadata": {},
     "output_type": "execute_result"
    }
   ],
   "source": [
    "# 특정 컬럼의 통계 확인\n",
    "df['국어점수'].min()\n",
    "df['국어점수'].max()\n",
    "df['국어점수'].mean() #평균\n",
    "df['국어점수'].count() #갯수 !Nan 값은 갯수에서 제외!\n",
    "df['국어점수'].sum() #합계\n",
    "df['국어점수'].nlargest(3) #내림차순 3번째까지"
   ]
  },
  {
   "cell_type": "code",
   "execution_count": 13,
   "metadata": {},
   "outputs": [
    {
     "data": {
      "text/plain": [
       "2"
      ]
     },
     "execution_count": 13,
     "metadata": {},
     "output_type": "execute_result"
    }
   ],
   "source": [
    "df['학급'].unique() #컬럼의 중복 제외 후 데이터\n",
    "df['학급'].nunique() #컬럼의 중복 제외한 데이터 갯수"
   ]
  }
 ],
 "metadata": {
  "kernelspec": {
   "display_name": "Python 3",
   "language": "python",
   "name": "python3"
  },
  "language_info": {
   "codemirror_mode": {
    "name": "ipython",
    "version": 3
   },
   "file_extension": ".py",
   "mimetype": "text/x-python",
   "name": "python",
   "nbconvert_exporter": "python",
   "pygments_lexer": "ipython3",
   "version": "3.12.2"
  }
 },
 "nbformat": 4,
 "nbformat_minor": 2
}
