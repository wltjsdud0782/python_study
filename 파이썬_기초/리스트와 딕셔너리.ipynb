{
 "cells": [
  {
   "cell_type": "markdown",
   "metadata": {},
   "source": [
    "### 리스트(List)\n",
    "+ 리스트 변수 생성 시 list 라는 이름의 변수 생성은 금지★"
   ]
  },
  {
   "cell_type": "code",
   "execution_count": 3,
   "metadata": {},
   "outputs": [],
   "source": [
    "# 빈 리스트 생성 \n",
    "list1 = []\n",
    "\n",
    "# 초기값을 갖는 리스트 생성\n",
    "# 자바와 다르게 자료형이 달라도 리스트의 요소로 들어올 수 있다.\n",
    "list2 = [1, 1.1, 'python']"
   ]
  },
  {
   "cell_type": "code",
   "execution_count": 19,
   "metadata": {},
   "outputs": [
    {
     "name": "stdout",
     "output_type": "stream",
     "text": [
      "[1, 1.1, 'python']\n",
      "1 1.1 python \n",
      "1.1\n"
     ]
    }
   ],
   "source": [
    "# 리스트의 값 읽기\n",
    "print(list2)\n",
    "\n",
    "# 반복문을 이용하여 리스트의 모든 데이터 출력\n",
    "for e in list2 :\n",
    "    print(e, end=' ')\n",
    "\n",
    "# 각각의 요소를 출력\n",
    "print()\n",
    "print(list2[1])"
   ]
  },
  {
   "cell_type": "code",
   "execution_count": 32,
   "metadata": {},
   "outputs": [
    {
     "name": "stdout",
     "output_type": "stream",
     "text": [
      "[0, 1, 2]\n",
      "[0, 1, 2, 3, 4]\n",
      "[6, 7, 8, 9, 10]\n",
      "[0, 1, 2, 3, 4, 5, 6, 7, 8, 9, 10]\n",
      "[8, 9, 10]\n"
     ]
    }
   ],
   "source": [
    "# 슬라이싱\n",
    "list3 = [0, 1, 2, 3, 4, 5, 6, 7, 8, 9, 10]\n",
    "# [a : b] = a부터 b전까지\n",
    "# a = 시작 인덱스\n",
    "# b = 마지막 인덱스 전까지!\n",
    "print(list3[0:3])\n",
    "print(list3[:5]) # 0 생략가능\n",
    "print(list3[6:]) # 끝까지 생략가능\n",
    "print(list3[:]) # 처음부터 끝까지\n",
    "print(list3[-3:]) # 뒤에서 3번째부터 끝까지"
   ]
  },
  {
   "cell_type": "code",
   "execution_count": 76,
   "metadata": {},
   "outputs": [
    {
     "name": "stdout",
     "output_type": "stream",
     "text": [
      "ja\n",
      "jpg jpg jpg \n",
      "15\n",
      "3\n",
      "2\n",
      "11\n",
      "안녕하세요 또 만나요 만나서 반가웠어요 "
     ]
    }
   ],
   "source": [
    "# 슬라이싱의 또 다른 활용\n",
    "test_str = 'java python c++'\n",
    "print(test_str[0:2])\n",
    "\n",
    "# Test\n",
    "str_arr = ['안녕하세요.jpg', '또 만나요.jpg', '만나서 반가웠어요.jpg']\n",
    "for e in str_arr :\n",
    "    print(e[-3:], end=' ')\n",
    "print()\n",
    "\n",
    "# 문자열의 길이\n",
    "print(len(test_str))\n",
    "print(len(str_arr))\n",
    "\n",
    "# 문자열에서 특정 문자열의 위치값 찾아내기\n",
    "str1 = 'python'\n",
    "print(str1.index('t'))\n",
    "str2 = 'java.python.c++'\n",
    "print(str2.rindex('.'))\n",
    "\n",
    "# Test2\n",
    "# str-arr 에서 .jpg 문자열을 제외한 문자열만 추출하여 출력\n",
    "for e in str_arr :\n",
    "    print(e[:e.rindex('.')], end=' ')"
   ]
  },
  {
   "cell_type": "code",
   "execution_count": 105,
   "metadata": {},
   "outputs": [
    {
     "name": "stdout",
     "output_type": "stream",
     "text": [
      "[1, 2.2, 10.5]\n",
      "[1, 1.5, 2.2, 10.5]\n"
     ]
    }
   ],
   "source": [
    "# 리스트에 데이터 추가하기\n",
    "list4 = []\n",
    "\n",
    "# append = 리스트의 가장 마지막 순서에 데이터 추가\n",
    "list4.append(1)\n",
    "list4.append(2.2)\n",
    "list4.append(10.5)\n",
    "print(list4)\n",
    "\n",
    "# insert(위치, 값) = 리스트에서 원하는 위치에 데이터 추가\n",
    "list4.insert(1, 1.5);\n",
    "print(list4)"
   ]
  },
  {
   "cell_type": "code",
   "execution_count": 106,
   "metadata": {},
   "outputs": [
    {
     "name": "stdout",
     "output_type": "stream",
     "text": [
      "[1, 1.5, 10.5]\n",
      "[4, 5, 6, 7, 8, 9]\n",
      "[2, 3, 4, 5, 6, 7, 8, 9]\n",
      "[]\n",
      "[]\n"
     ]
    }
   ],
   "source": [
    "# 리스트의 데이터 삭제하기\n",
    "# del(리스트명[위치]) = 리스트의 원하는 위치의 데이터 삭제\n",
    "del(list4[2])\n",
    "print(list4)\n",
    "\n",
    "list5 = [1,2,3,4,5,6,7,8,9]\n",
    "del(list5[:3]) # 3번째요소 전까지 지워진다.\n",
    "print(list5)\n",
    "\n",
    "# 리스트명.remove(삭제할 값)\n",
    "list5 = [1,2,3,4,5,6,7,8,9]\n",
    "list5.remove(1) # 값 1 이 지워진다.\n",
    "print(list5)\n",
    "\n",
    "# 리스트의 모든 내용 지우기\n",
    "list5 = [1,2,3,4,5,6,7,8,9]\n",
    "list5.clear()\n",
    "print(list5)\n",
    "\n",
    "list5 = [1,2,3,4,5,6,7,8,9]\n",
    "del(list5[:]) # list5 의 안의 내용 지워짐\n",
    "print(list5)\n",
    "del(list5) # list5 자체가 지워짐\n",
    "print(list5) # 오류"
   ]
  },
  {
   "cell_type": "markdown",
   "metadata": {},
   "source": [
    "### 딕셔너리(Dictionary)"
   ]
  },
  {
   "cell_type": "code",
   "execution_count": 107,
   "metadata": {},
   "outputs": [],
   "source": [
    "# 딕셔너리 생성\n",
    "dic1 = {}\n",
    "dic2 = {'이름' : '홍길동', '나이' : 20}"
   ]
  },
  {
   "cell_type": "code",
   "execution_count": 116,
   "metadata": {},
   "outputs": [
    {
     "name": "stdout",
     "output_type": "stream",
     "text": [
      "{'이름': '홍길동', '나이': 20}\n",
      "홍길동\n",
      "20\n",
      "key = 이름, value = 홍길동\n",
      "key = 나이, value = 20\n"
     ]
    }
   ],
   "source": [
    "# 딕셔너리 출력\n",
    "print(dic2)\n",
    "\n",
    "# 하나의 데이터만 출력\n",
    "print(dic2['이름'])\n",
    "print(dic2.get('나이'))\n",
    "\n",
    "# 반복문을 이용해서 출력\n",
    "for key in dic2 :\n",
    "    print(f'key = {key}, value = {dic2[key]}')"
   ]
  },
  {
   "cell_type": "code",
   "execution_count": 124,
   "metadata": {},
   "outputs": [
    {
     "name": "stdout",
     "output_type": "stream",
     "text": [
      "{'이름': '홍길동'}\n",
      "{'이름': '홍길동', '연락처': '010-1111-2222'}\n",
      "{'이름': '이순신', '연락처': '010-1111-2222'}\n"
     ]
    }
   ],
   "source": [
    "# 딕셔너리에 데이터 추가하기\n",
    "dic3 = {}\n",
    "\n",
    "# key 가 이름이고 value 는 '홍길동'인 데이터를 추가\n",
    "dic3['이름'] = '홍길동'\n",
    "print(dic3)\n",
    "dic3['연락처'] = '010-1111-2222'\n",
    "print(dic3)\n",
    "\n",
    "# dic3 안에 키가 '이름'인 데이터의 값을 '이순신'으로 변경\n",
    "dic3['이름'] = '이순신'\n",
    "print(dic3)"
   ]
  },
  {
   "cell_type": "code",
   "execution_count": 125,
   "metadata": {},
   "outputs": [
    {
     "name": "stdout",
     "output_type": "stream",
     "text": [
      "{'연락처': '010-1111-2222'}\n",
      "{}\n"
     ]
    }
   ],
   "source": [
    "# 딕셔너리 데이터 삭제하기\n",
    "# 키가 '이름'인 데이터를 삭제\n",
    "del(dic3['이름'])\n",
    "print(dic3)\n",
    "\n",
    "dic3.clear()\n",
    "print(dic3)"
   ]
  },
  {
   "cell_type": "code",
   "execution_count": 150,
   "metadata": {},
   "outputs": [
    {
     "name": "stdout",
     "output_type": "stream",
     "text": [
      "['맛있', '는거먹', '고싶은디', '나가기', '귀찮다리요']\n"
     ]
    }
   ],
   "source": [
    "# 리스트 Test\n",
    "# 빈 리스트를 생성 후 키보드로 데이터 5개를 입력받고 입력받은 데이터를 추가한다.\n",
    "# 추가 된 리스트의 모든 내용을 출력한다.\n",
    "test_list1 = []\n",
    "for i in range(0,5) :\n",
    "    test_list1.append(input(f'{i+1}번째 넣을 값을 입력하세요.'))\n",
    "\n",
    "print(test_list1)"
   ]
  },
  {
   "cell_type": "code",
   "execution_count": 158,
   "metadata": {},
   "outputs": [
    {
     "name": "stdout",
     "output_type": "stream",
     "text": [
      "삭제 후 결과 = [2, 3, 4, 5]\n"
     ]
    }
   ],
   "source": [
    "# 리스트 Test2\n",
    "# 아래 제시된 리스트에서 사용자가 입력한 값을 찾아 삭제하는 코드 작성\n",
    "test_list2 = [1,2,3,4,5]\n",
    "searchData = int(input('리스트에서 삭제할 값을 입력하세요.'))\n",
    "\n",
    "if searchData in test_list2 :\n",
    "    test_list2.remove(searchData)\n",
    "    print(f'삭제 후 결과 = {test_list2}')\n",
    "else :\n",
    "    print('리스트에 입력한 값이 없습니다.')"
   ]
  },
  {
   "cell_type": "code",
   "execution_count": 185,
   "metadata": {},
   "outputs": [
    {
     "name": "stdout",
     "output_type": "stream",
     "text": [
      "[2, 4, 6, 8, 10]\n",
      "30\n"
     ]
    }
   ],
   "source": [
    "# 리스트 Test3\n",
    "# 1~10까지의 수 중 짝수만 리스트에 저장하고 리스트에 저장된 데이터의 합 출력\n",
    "test_list3 = []\n",
    "for e in range(1,11) :\n",
    "    # 참고 : js 에서 if A==null 을 표시하려면 if A is None / if A is not None 처럼 쓴다.\n",
    "    if e % 2 == 0 :\n",
    "        test_list3.append(e)\n",
    "\n",
    "print(test_list3)\n",
    "print(sum(test_list3))"
   ]
  },
  {
   "cell_type": "code",
   "execution_count": 197,
   "metadata": {},
   "outputs": [
    {
     "name": "stdout",
     "output_type": "stream",
     "text": [
      "{'이름': '선영', '나이': '24', '국어점수': '100', '영어점수': '80'}\n"
     ]
    }
   ],
   "source": [
    "# 빈 dictionary 객체를 생성한 후 이름, 나이, 국어점수, 영어점수를 key로 추가 후\n",
    "# 각각의 키에 대응하는 value를 키보드로 입력받고 dictionary 객체에 저장하고 출력하시오.\n",
    "test_dic1 = {}\n",
    "test_dic1['이름'] = None\n",
    "test_dic1['나이'] = None\n",
    "test_dic1['국어점수'] = None\n",
    "test_dic1['영어점수'] = None\n",
    "\n",
    "for e in test_dic1 :\n",
    "    test_dic1[e] = input(f'{e} 값을 입력하세요.')\n",
    "print(test_dic1)"
   ]
  },
  {
   "cell_type": "code",
   "execution_count": 198,
   "metadata": {},
   "outputs": [
    {
     "name": "stdout",
     "output_type": "stream",
     "text": [
      "{'이름': '선영', '나이': '24', '국어점수': '100', '영어점수': '80', '총점': 180}\n"
     ]
    }
   ],
   "source": [
    "# 위에서 만든 딕셔너리 데이터에 '총점' 키를 추가하고\n",
    "# 해당 키의 값으로 국어점수와 영어점수의 합을 저장\n",
    "test_dic1['총점'] = int(test_dic1['국어점수']) + int(test_dic1['영어점수'])\n",
    "print(test_dic1)"
   ]
  },
  {
   "cell_type": "code",
   "execution_count": 199,
   "metadata": {},
   "outputs": [],
   "source": [
    "# 아래의 데이터를 참고하여 문제를 풀어보세요.\n",
    "class_room_data = {\n",
    "    'stu_no' : [1,2,3,4,5]\n",
    "    , 'stu_name' : ['김자바', '이자바', '박자바', '최자바', '황자바']\n",
    "    , 'stu_score' : [85, 65, 70, 80, 95]\n",
    "}"
   ]
  },
  {
   "cell_type": "code",
   "execution_count": 202,
   "metadata": {},
   "outputs": [
    {
     "name": "stdout",
     "output_type": "stream",
     "text": [
      "95\n"
     ]
    }
   ],
   "source": [
    "# 최고점수 출력\n",
    "print(max(class_room_data['stu_score']))"
   ]
  },
  {
   "cell_type": "code",
   "execution_count": 215,
   "metadata": {},
   "outputs": [
    {
     "name": "stdout",
     "output_type": "stream",
     "text": [
      "{'stu_no': [1, 2, 3, 4, 5], 'stu_name': ['김자바', '이자바', '박자바', '최자바', '황자바'], 'stu_score': [85, 65, 70, 80, 95], 'stu_grade': ['B', 'C', 'C', 'B', 'A']}\n"
     ]
    }
   ],
   "source": [
    "# 'stu_grade' 추가 후 90 이상 A , 80<=x<90 B, 80미만 C 가 들어가도록 하시오.\n",
    "class_room_data['stu_grade']=[]\n",
    "\n",
    "for score in class_room_data['stu_score']:\n",
    "    grade = ''\n",
    "    if score >= 90:\n",
    "        grade = 'A'\n",
    "    elif score >= 80:\n",
    "        grade = 'B'\n",
    "    else :\n",
    "        grade = 'C'\n",
    "    class_room_data['stu_grade'].append(grade)\n",
    "\n",
    "print(class_room_data)"
   ]
  }
 ],
 "metadata": {
  "kernelspec": {
   "display_name": "Python 3",
   "language": "python",
   "name": "python3"
  },
  "language_info": {
   "codemirror_mode": {
    "name": "ipython",
    "version": 3
   },
   "file_extension": ".py",
   "mimetype": "text/x-python",
   "name": "python",
   "nbconvert_exporter": "python",
   "pygments_lexer": "ipython3",
   "version": "3.12.2"
  }
 },
 "nbformat": 4,
 "nbformat_minor": 2
}
