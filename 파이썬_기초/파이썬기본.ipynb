{
 "cells": [
  {
   "cell_type": "markdown",
   "metadata": {},
   "source": [
    "### 자주 사용하는 쥬피터노트북 단축키\n",
    "+ y = 해당 셀 > 코드 입력 셀로 변경\n",
    "+ m = 해당 셀 > 마크다운(주석) 셀로 변경\n",
    "+ Ctrl + Enter = 선택한 셀 실행\n",
    "+ d(d) = 해당 셀 삭제\n",
    "+ a - 해당 셀 위쪽 셀 추가\n",
    "+ b - 해당 셀 아래쪽 셀 추가"
   ]
  },
  {
   "cell_type": "markdown",
   "metadata": {},
   "source": [
    "#### 파이썬의 출력문\n",
    "+ 파이썬은 명령어 종료 후 세미콜론(;)을 붙이지 않는다."
   ]
  },
  {
   "cell_type": "code",
   "execution_count": 9,
   "metadata": {},
   "outputs": [
    {
     "name": "stdout",
     "output_type": "stream",
     "text": [
      "10\n",
      "python\n",
      "python\n",
      "30\n"
     ]
    }
   ],
   "source": [
    "# 숫자 출력\n",
    "print(10)\n",
    "# 문자 출력 : 출력하고자 하는 문자를 홀따옴표 혹은 쌍따옴표로 감싼다.\n",
    "print('python')  \n",
    "print(\"python\")\n",
    "\n",
    "# 출력문 안의 내용이 연산가능하다면 연산 결과 출력\n",
    "print(10 + 20)\n",
    "# Java와 다르게 숫자와 문자끼리의 합은 오류 발생\n",
    "# print(10 + 'python') 오류"
   ]
  },
  {
   "cell_type": "markdown",
   "metadata": {},
   "source": [
    "#### 파이썬의 연산자"
   ]
  },
  {
   "cell_type": "code",
   "execution_count": 13,
   "metadata": {},
   "outputs": [
    {
     "name": "stdout",
     "output_type": "stream",
     "text": [
      "3.3333333333333335\n",
      "3\n",
      "1\n",
      "8\n"
     ]
    }
   ],
   "source": [
    "# 나눗셈 연산 결과는 소수점까지 출력\n",
    "print(10 / 3)\n",
    "\n",
    "# 나눗셈의 몫만 출력\n",
    "print(10 // 3)\n",
    "\n",
    "# 나눗셈의 나머지 출력\n",
    "print(10 % 3)\n",
    "\n",
    "# 거듭제곱 연산자 (2^3)\n",
    "print(2 ** 3)\n",
    "\n",
    "# >, <, <=, >=, != 는 Java와 동일"
   ]
  },
  {
   "cell_type": "markdown",
   "metadata": {},
   "source": [
    "#### 파이썬의 자료형(기본)\n",
    "+ 파이썬은 눈에 보이지 않는 자료형 존재"
   ]
  },
  {
   "cell_type": "code",
   "execution_count": 27,
   "metadata": {},
   "outputs": [
    {
     "name": "stdout",
     "output_type": "stream",
     "text": [
      "<class 'int'>\n",
      "<class 'float'>\n",
      "<class 'str'>\n",
      "변환 후 <class 'int'>\n",
      "변환 후 <class 'float'>\n",
      "변환 후 <class 'str'>\n",
      "<class 'bool'>\n"
     ]
    }
   ],
   "source": [
    "a = 10\n",
    "print(type(a))\n",
    "b = 10.5\n",
    "print(type(b))\n",
    "c = 'python'\n",
    "print(type(c))\n",
    "\n",
    "# 파이썬의 기본 자료형 변환 > int , float, str\n",
    "aa = int(\"10\")\n",
    "bb = float(\"10.5\")\n",
    "cc = str(120)\n",
    "print(\"변환 후\", type(aa))\n",
    "print(\"변환 후\", type(bb))\n",
    "print(\"변환 후\", type(cc))\n",
    "\n",
    "# 참 또는 거짓 > bool\n",
    "bool = True\n",
    "bool2 = False\n",
    "print(type(bool))"
   ]
  },
  {
   "cell_type": "markdown",
   "metadata": {},
   "source": [
    "#### 많이 사용하는 파이썬의 자료형\n",
    "- 리스트(배열)\n",
    "- 딕셔너리(dictionary)\n",
    "- set\n",
    "- 튜플(tuple)"
   ]
  },
  {
   "cell_type": "code",
   "execution_count": 35,
   "metadata": {},
   "outputs": [
    {
     "name": "stdout",
     "output_type": "stream",
     "text": [
      "[1, 2, 3, 4, 5]\n",
      "1.1\n"
     ]
    }
   ],
   "source": [
    "# 리스트 생성 및 출력\n",
    "list_1 = [1,2,3,4,5]\n",
    "print(list_1)\n",
    "\n",
    "list_2 = [1, 1.1, 'python']\n",
    "print(list_2[1])"
   ]
  },
  {
   "cell_type": "code",
   "execution_count": 47,
   "metadata": {},
   "outputs": [
    {
     "name": "stdout",
     "output_type": "stream",
     "text": [
      "{'name': 'hong', 'age': 20, 'addr': '울산시'}\n",
      "20\n",
      "20\n"
     ]
    }
   ],
   "source": [
    "# 딕셔너리 dictionary 생성 및 출력\n",
    "dic_1 = {\n",
    "    'name' : 'hong'\n",
    "    , 'age' : 20\n",
    "    , 'addr' : '울산시'\n",
    "}\n",
    "print(dic_1)\n",
    "print(dic_1['age'])\n",
    "print(dic_1.get('age'))"
   ]
  },
  {
   "cell_type": "code",
   "execution_count": 48,
   "metadata": {},
   "outputs": [
    {
     "name": "stdout",
     "output_type": "stream",
     "text": [
      "캐드반\n"
     ]
    }
   ],
   "source": [
    "school = {\n",
    "    'schoolName' : '그린학교'\n",
    "    , 'classInfo' : [\n",
    "        {\n",
    "            'className' : '자바반'\n",
    "            , 'stuCnt' : 30\n",
    "        }, {\n",
    "            'className' : '캐드반'\n",
    "            , 'stuCnt' : 30\n",
    "        }\n",
    "    ]\n",
    "}\n",
    "print(school['classInfo'][1]['className'])"
   ]
  }
 ],
 "metadata": {
  "kernelspec": {
   "display_name": "Python 3",
   "language": "python",
   "name": "python3"
  },
  "language_info": {
   "codemirror_mode": {
    "name": "ipython",
    "version": 3
   },
   "file_extension": ".py",
   "mimetype": "text/x-python",
   "name": "python",
   "nbconvert_exporter": "python",
   "pygments_lexer": "ipython3",
   "version": "3.12.2"
  }
 },
 "nbformat": 4,
 "nbformat_minor": 2
}
